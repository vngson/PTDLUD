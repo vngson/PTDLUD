{
 "cells": [
  {
   "cell_type": "code",
   "execution_count": 1,
   "metadata": {},
   "outputs": [],
   "source": [
    "#CSC12110 – Phân tích dữ liệu ứng dụng\n",
    "#ĐỒ ÁN THỰC HÀNH #1\n",
    "#Nhóm 20CQ.PTDL.09:\n",
    "#20120257 - Đinh Hoàng Bảo Châu\n",
    "#20120295 - Ngô Võ Quang Huy\n",
    "#20120566 - Võ Ngọc Sơn\n",
    "#20120577 - Huỳnh Quốc Thái"
   ]
  },
  {
   "cell_type": "code",
   "execution_count": null,
   "metadata": {},
   "outputs": [],
   "source": []
  }
 ],
 "metadata": {
  "kernelspec": {
   "display_name": "Python 3",
   "language": "python",
   "name": "python3"
  },
  "language_info": {
   "codemirror_mode": {
    "name": "ipython",
    "version": 3
   },
   "file_extension": ".py",
   "mimetype": "text/x-python",
   "name": "python",
   "nbconvert_exporter": "python",
   "pygments_lexer": "ipython3",
   "version": "3.10.7"
  }
 },
 "nbformat": 4,
 "nbformat_minor": 2
}
