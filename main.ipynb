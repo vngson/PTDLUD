{
 "cells": [
  {
   "cell_type": "code",
   "execution_count": 1,
   "metadata": {},
   "outputs": [],
   "source": [
    "#CSC12110 – Phân tích dữ liệu ứng dụng\n",
    "#ĐỒ ÁN THỰC HÀNH #1\n",
    "#Nhóm 20CQ.PTDL.09:\n",
    "#20120257 - Đinh Hoàng Bảo Châu\n",
    "#20120295 - Ngô Võ Quang Huy\n",
    "#20120566 - Võ Ngọc Sơn\n",
    "#20120577 - Huỳnh Quốc Thái"
   ]
  },
  {
   "cell_type": "markdown",
   "metadata": {},
   "source": [
    "# CSC12110 – Phân tích dữ liệu ứng dụng\n",
    "# ĐỒ ÁN THỰC HÀNH\n",
    "## Nhóm 20CQ.PTDL.09:\n",
    "- 20120257 - Đinh Hoàng Bảo Châu\n",
    "- 20120295 - Ngô Võ Quang Huy\n",
    "- 20120566 - Võ Ngọc Sơn\n",
    "- 20120577 - Huỳnh Quốc Thái"
   ]
  },
  {
   "cell_type": "markdown",
   "metadata": {},
   "source": [
    "## Quan sát và phân tích tập dữ liệu (EDA)\n",
    "#### 1. Cho biết kiểu dữ liệu của các thuộc tính"
   ]
  },
  {
   "cell_type": "code",
   "execution_count": 2,
   "metadata": {},
   "outputs": [
    {
     "name": "stdout",
     "output_type": "stream",
     "text": [
      "1. Kiểu dữ liệu của các thuộc tính:\n",
      "Airline            object\n",
      "Date_of_Journey    object\n",
      "Source             object\n",
      "Destination        object\n",
      "Route              object\n",
      "Dep_Time           object\n",
      "Arrival_Time       object\n",
      "Duration           object\n",
      "Total_Stops        object\n",
      "Additional_Info    object\n",
      "Price               int64\n",
      "dtype: object\n"
     ]
    }
   ],
   "source": [
    "import pandas as pd\n",
    "import matplotlib.pyplot as plt\n",
    "\n",
    "# Đọc dữ liệu từ file Excel\n",
    "data_train_p1 = pd.read_excel(\"Data_Train_p1.xlsx\")\n",
    "data_train_p2 = pd.read_excel(\"Data_Train_p2.xlsx\")\n",
    "# Kết hợp hai data set\n",
    "merged_data = pd.concat([data_train_p1, data_train_p2])\n",
    "\n",
    "# 1. Kiểu dữ liệu của các thuộc tính\n",
    "print(\"1. Kiểu dữ liệu của các thuộc tính:\")\n",
    "print(merged_data.dtypes)"
   ]
  },
  {
   "cell_type": "markdown",
   "metadata": {},
   "source": [
    "#### 2. Đối với cột Price, cho biết:\n",
    "- Giá cao nhất, thấp nhất, giá trung bình, mức giá xuất hiện nhiều\n",
    "- Độ lệch chuẩn của cột price?\n",
    "- Cho biết giá phân phối xung quanh trung tâm hay cách xa trung tâm? Nhận xét về giá trị mean và median của tập dữ liệu.\n",
    "- Vẽ đồ thị histogram để nhận xét dữ liệu có bị lệch không?"
   ]
  },
  {
   "cell_type": "code",
   "execution_count": 3,
   "metadata": {},
   "outputs": [
    {
     "name": "stdout",
     "output_type": "stream",
     "text": [
      "\n",
      "2. Thống kê về cột Price:\n",
      "   - Giá cao nhất: 79512\n",
      "   - Giá thấp nhất: 1759\n",
      "   - Giá trung bình: 9087.545582178958\n",
      "   - Mức giá xuất hiện nhiều: 10262\n",
      "   - Độ lệch chuẩn của cột Price: 4611.411872913706\n",
      "   - Phân phối giá xung quanh trung tâm hay cách xa trung tâm?\n",
      "     - Dữ liệu phân phối cách xa trung tâm.\n"
     ]
    },
    {
     "data": {
      "image/png": "[encoded data removed]",
      "text/plain": [
       "<Figure size 1000x600 with 1 Axes>"
      ]
     },
     "metadata": {},
     "output_type": "display_data"
    }
   ],
   "source": [
    "# 2. Thống kê về cột Price\n",
    "print(\"\\n2. Thống kê về cột Price:\")\n",
    "print(\"   - Giá cao nhất:\", merged_data['Price'].max())\n",
    "print(\"   - Giá thấp nhất:\", merged_data['Price'].min())\n",
    "print(\"   - Giá trung bình:\", merged_data['Price'].mean())\n",
    "print(\"   - Mức giá xuất hiện nhiều:\", merged_data['Price'].mode()[0])\n",
    "print(\"   - Độ lệch chuẩn của cột Price:\", merged_data['Price'].std())\n",
    "print(\"   - Phân phối giá xung quanh trung tâm hay cách xa trung tâm?\")\n",
    "if merged_data['Price'].mean() > merged_data['Price'].median():\n",
    "    print(\"     - Dữ liệu phân phối cách xa trung tâm.\")\n",
    "else:\n",
    "    print(\"     - Dữ liệu phân phối xung quanh trung tâm.\")\n",
    "\n",
    "# Vẽ đồ thị histogram\n",
    "plt.figure(figsize=(10, 6))\n",
    "plt.hist(merged_data['Price'], bins=20, color='skyblue', edgecolor='black')\n",
    "plt.title('Phân phối giá')\n",
    "plt.xlabel('Giá')\n",
    "plt.ylabel('Số lượng')\n",
    "plt.show()"
   ]
  },
  {
   "cell_type": "markdown",
   "metadata": {},
   "source": [
    "#### 3. Mô tả số lượng missing value của mỗi thuộc tính"
   ]
  },
  {
   "cell_type": "code",
   "execution_count": 4,
   "metadata": {},
   "outputs": [
    {
     "name": "stdout",
     "output_type": "stream",
     "text": [
      "\n",
      "3. Số lượng missing value của mỗi thuộc tính:\n",
      "Airline            0\n",
      "Date_of_Journey    0\n",
      "Source             0\n",
      "Destination        0\n",
      "Route              1\n",
      "Dep_Time           0\n",
      "Arrival_Time       0\n",
      "Duration           0\n",
      "Total_Stops        1\n",
      "Additional_Info    0\n",
      "Price              0\n",
      "dtype: int64\n"
     ]
    }
   ],
   "source": [
    "# 3. Mô tả số lượng missing value\n",
    "print(\"\\n3. Số lượng missing value của mỗi thuộc tính:\")\n",
    "print(merged_data.isnull().sum())"
   ]
  },
  {
   "cell_type": "markdown",
   "metadata": {},
   "source": [
    "#### 4. Tính tỷ lệ % missing value của mỗi thuộc tính"
   ]
  },
  {
   "cell_type": "code",
   "execution_count": 5,
   "metadata": {},
   "outputs": [
    {
     "name": "stdout",
     "output_type": "stream",
     "text": [
      "\n",
      "4. Tỷ lệ % missing value của mỗi thuộc tính:\n",
      "Airline            0.00000\n",
      "Date_of_Journey    0.00000\n",
      "Source             0.00000\n",
      "Destination        0.00000\n",
      "Route              0.00936\n",
      "Dep_Time           0.00000\n",
      "Arrival_Time       0.00000\n",
      "Duration           0.00000\n",
      "Total_Stops        0.00936\n",
      "Additional_Info    0.00000\n",
      "Price              0.00000\n",
      "dtype: float64\n"
     ]
    }
   ],
   "source": [
    "print(\"\\n4. Tỷ lệ % missing value của mỗi thuộc tính:\")\n",
    "print((merged_data.isnull().sum() / len(merged_data)) * 100)"
   ]
  },
  {
   "cell_type": "markdown",
   "metadata": {},
   "source": [
    "#### 5. Xử lý dữ liệu missing"
   ]
  },
  {
   "cell_type": "markdown",
   "metadata": {},
   "source": [
    "#### 6. Outlier: sử dụng đồ thị boxplot để quan sát cột Price có tồn tại outlier không?"
   ]
  },
  {
   "cell_type": "markdown",
   "metadata": {},
   "source": [
    "## Visualize dữ liệu dạng bảng hoặc đồ thị: \n",
    "#### 1. Giá vé tăng khi nào?"
   ]
  },
  {
   "cell_type": "code",
   "execution_count": null,
   "metadata": {},
   "outputs": [],
   "source": []
  },
  {
   "cell_type": "markdown",
   "metadata": {},
   "source": [
    "#### 2. So sánh tỷ lệ các chuyến bay thẳng và trung chuyển (có dừng)"
   ]
  },
  {
   "cell_type": "code",
   "execution_count": null,
   "metadata": {},
   "outputs": [],
   "source": []
  },
  {
   "cell_type": "markdown",
   "metadata": {},
   "source": [
    "#### 3. Nước nào có lượng chuyến bay nhiều nhất?"
   ]
  },
  {
   "cell_type": "code",
   "execution_count": null,
   "metadata": {},
   "outputs": [],
   "source": []
  },
  {
   "cell_type": "markdown",
   "metadata": {},
   "source": [
    "#### 4. Hãng máy bay nào được khách đặt vé nhiều/thấp nhất?"
   ]
  },
  {
   "cell_type": "code",
   "execution_count": null,
   "metadata": {},
   "outputs": [],
   "source": []
  },
  {
   "cell_type": "markdown",
   "metadata": {},
   "source": [
    "#### 5. Tháng nào là tháng cao điểm"
   ]
  },
  {
   "cell_type": "code",
   "execution_count": null,
   "metadata": {},
   "outputs": [],
   "source": []
  },
  {
   "cell_type": "markdown",
   "metadata": {},
   "source": [
    "#### 6. Giá có thay đổi tùy theo hãng hàng không hay không?"
   ]
  },
  {
   "cell_type": "code",
   "execution_count": null,
   "metadata": {},
   "outputs": [],
   "source": []
  },
  {
   "cell_type": "markdown",
   "metadata": {},
   "source": [
    "#### 7. Giá vé bị ảnh hưởng như thế nào khi mua vé chỉ 1 hoặc 2 ngày trước ngày khởi hành?"
   ]
  },
  {
   "cell_type": "code",
   "execution_count": null,
   "metadata": {},
   "outputs": [],
   "source": []
  },
  {
   "cell_type": "markdown",
   "metadata": {},
   "source": [
    "#### 8. Giá vé có thay đổi theo thời gian đi và đến không?"
   ]
  },
  {
   "cell_type": "code",
   "execution_count": null,
   "metadata": {},
   "outputs": [],
   "source": []
  },
  {
   "cell_type": "markdown",
   "metadata": {},
   "source": [
    "#### 9. Giá thay đổi như thế nào khi thay đổi Nguồn và Điểm đến?"
   ]
  },
  {
   "cell_type": "code",
   "execution_count": null,
   "metadata": {},
   "outputs": [],
   "source": []
  },
  {
   "cell_type": "markdown",
   "metadata": {},
   "source": [
    "### Kết luận các điểm chính quan sát được từ dữ liệu từ các gợi ý trên"
   ]
  },
  {
   "cell_type": "markdown",
   "metadata": {},
   "source": [
    "### Ngoài các đặc trưng trong tập dữ liệu, các yếu tố nào có khả năng ảnh hưởng đến giá vé chuyến bay?"
   ]
  },
  {
   "cell_type": "markdown",
   "metadata": {},
   "source": [
    "### Dự đoán giá vé"
   ]
  }
 ],
 "metadata": {
  "kernelspec": {
   "display_name": "Python 3",
   "language": "python",
   "name": "python3"
  },
  "language_info": {
   "codemirror_mode": {
    "name": "ipython",
    "version": 3
   },
   "file_extension": ".py",
   "mimetype": "text/x-python",
   "name": "python",
   "nbconvert_exporter": "python",
   "pygments_lexer": "ipython3",
   "version": "3.11.0"
  }
 },
 "nbformat": 4,
 "nbformat_minor": 2
}
